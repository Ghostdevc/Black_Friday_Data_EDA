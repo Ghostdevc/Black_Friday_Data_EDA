{
 "cells": [
  {
   "cell_type": "markdown",
   "id": "49e5d222",
   "metadata": {},
   "source": [
    "# Black Friday Data EDA and Feature Engineering"
   ]
  },
  {
   "cell_type": "markdown",
   "id": "ed4890d5",
   "metadata": {},
   "source": [
    "### dataset link:\n",
    "https://www.kaggle.com/datasets/sdolezel/black-friday?resource=download"
   ]
  },
  {
   "cell_type": "markdown",
   "id": "966f6f20",
   "metadata": {},
   "source": [
    "### Problem Statement: \n",
    "A retail company “ABC Private Limited” wants to understand the customer purchase behaviour (specifically, purchase amount) against various products of different categories. They have shared purchase summary of various customers for selected high volume products from last month. The data set also contains customer demographics (age, gender, marital status, city_type, stay_in_current_city), product details (product_id and product category) and Total purchase_amount from last month. Now, they want to build a model to predict the purchase amount of customer against various products which will help them to create personalized offer for customers against different products."
   ]
  },
  {
   "cell_type": "markdown",
   "id": "31f827d4",
   "metadata": {},
   "source": [
    "## Cleaning and Preprocessing"
   ]
  },
  {
   "cell_type": "markdown",
   "id": "b788950d",
   "metadata": {},
   "source": [
    "Importing Libraries"
   ]
  },
  {
   "cell_type": "code",
   "execution_count": 1,
   "id": "3314e2c2",
   "metadata": {},
   "outputs": [],
   "source": [
    "import pandas as pd\n",
    "import numpy as np\n",
    "import matplotlib.pyplot as plt\n",
    "import seaborn as sns\n",
    "from black_friday_eda.utils import load_train, load_test, check_df, concat_df_on_y_axis, grab_col_names, cat_summary, num_summary_enhanced"
   ]
  },
  {
   "cell_type": "code",
   "execution_count": 2,
   "id": "b2271ae6",
   "metadata": {},
   "outputs": [],
   "source": [
    "pd.set_option('display.max_columns', None)\n",
    "pd.set_option('display.max_rows', None)\n",
    "pd.set_option('display.float_format', lambda x: '%.3f' % x)\n",
    "pd.set_option('display.width', 500)"
   ]
  },
  {
   "cell_type": "markdown",
   "id": "b0b30dab",
   "metadata": {},
   "source": [
    "Loading datasets"
   ]
  },
  {
   "cell_type": "code",
   "execution_count": 3,
   "id": "f9b2ab0b",
   "metadata": {},
   "outputs": [],
   "source": [
    "df_train = load_train()\n",
    "df_test = load_test()"
   ]
  },
  {
   "cell_type": "code",
   "execution_count": null,
   "id": "43e1f3c9",
   "metadata": {},
   "outputs": [],
   "source": [
    "check_df(df_train)"
   ]
  },
  {
   "cell_type": "code",
   "execution_count": null,
   "id": "8179d0fc",
   "metadata": {},
   "outputs": [],
   "source": [
    "check_df(df_test)"
   ]
  },
  {
   "cell_type": "markdown",
   "id": "1a247e9c",
   "metadata": {},
   "source": [
    "Concatenating train-test sets to preprocess as a whole and to prevent data leak."
   ]
  },
  {
   "cell_type": "code",
   "execution_count": 39,
   "id": "e0365611",
   "metadata": {},
   "outputs": [],
   "source": [
    "df_train_test = concat_df_on_y_axis(df_train, df_test)"
   ]
  },
  {
   "cell_type": "code",
   "execution_count": 5,
   "id": "3f2a201d",
   "metadata": {},
   "outputs": [
    {
     "name": "stdout",
     "output_type": "stream",
     "text": [
      "##################### Shape #####################\n",
      "(783667, 12)\n",
      "##################### Types #####################\n",
      "User_ID                         int64\n",
      "Product_ID                     object\n",
      "Gender                         object\n",
      "Age                            object\n",
      "Occupation                      int64\n",
      "City_Category                  object\n",
      "Stay_In_Current_City_Years     object\n",
      "Marital_Status                  int64\n",
      "Product_Category_1              int64\n",
      "Product_Category_2            float64\n",
      "Product_Category_3            float64\n",
      "Purchase                      float64\n",
      "dtype: object\n",
      "##################### Head #####################\n",
      "   User_ID Product_ID Gender   Age  Occupation City_Category Stay_In_Current_City_Years  Marital_Status  Product_Category_1  Product_Category_2  Product_Category_3  Purchase\n",
      "0  1000001  P00069042      F  0-17          10             A                          2               0                   3                 NaN                 NaN  8370.000\n",
      "1  1000001  P00248942      F  0-17          10             A                          2               0                   1               6.000              14.000 15200.000\n",
      "2  1000001  P00087842      F  0-17          10             A                          2               0                  12                 NaN                 NaN  1422.000\n",
      "##################### Tail #####################\n",
      "        User_ID Product_ID Gender    Age  Occupation City_Category Stay_In_Current_City_Years  Marital_Status  Product_Category_1  Product_Category_2  Product_Category_3  Purchase\n",
      "233596  1006036  P00031842      F  26-35          15             B                         4+               1                   1               5.000              12.000       NaN\n",
      "233597  1006037  P00124742      F  46-50           1             C                         4+               0                  10              16.000                 NaN       NaN\n",
      "233598  1006039  P00316642      F  46-50           0             B                         4+               1                   4               5.000                 NaN       NaN\n",
      "##################### NA #####################\n",
      "User_ID                            0\n",
      "Product_ID                         0\n",
      "Gender                             0\n",
      "Age                                0\n",
      "Occupation                         0\n",
      "City_Category                      0\n",
      "Stay_In_Current_City_Years         0\n",
      "Marital_Status                     0\n",
      "Product_Category_1                 0\n",
      "Product_Category_2            245982\n",
      "Product_Category_3            545809\n",
      "Purchase                      233599\n",
      "dtype: int64\n",
      "##################### Unique Values #####################\n",
      "User_ID                        5891\n",
      "Product_ID                     3677\n",
      "Gender                            2\n",
      "Age                               7\n",
      "Occupation                       21\n",
      "City_Category                     3\n",
      "Stay_In_Current_City_Years        5\n",
      "Marital_Status                    2\n",
      "Product_Category_1               20\n",
      "Product_Category_2               17\n",
      "Product_Category_3               15\n",
      "Purchase                      18105\n",
      "dtype: int64\n",
      "##################### Duplicates #####################\n",
      "0\n",
      "##################### Quantiles #####################\n",
      "                        count        mean      std         min         25%         50%         75%         max\n",
      "User_ID            783667.000 1003028.996 1727.267 1000001.000 1001519.000 1003075.000 1004478.000 1006040.000\n",
      "Occupation         783667.000       8.079    6.522       0.000       2.000       7.000      14.000      20.000\n",
      "Marital_Status     783667.000       0.410    0.492       0.000       0.000       0.000       1.000       1.000\n",
      "Product_Category_1 783667.000       5.366    3.878       1.000       1.000       5.000       8.000      20.000\n",
      "Product_Category_2 537685.000       9.845    5.089       2.000       5.000       9.000      15.000      18.000\n",
      "Product_Category_3 237858.000      12.669    4.126       3.000       9.000      14.000      16.000      18.000\n",
      "Purchase           550068.000    9263.969 5023.065      12.000    5823.000    8047.000   12054.000   23961.000\n"
     ]
    }
   ],
   "source": [
    "check_df(df_train_test)"
   ]
  },
  {
   "cell_type": "code",
   "execution_count": 40,
   "id": "908d4391",
   "metadata": {},
   "outputs": [],
   "source": [
    "# Dropping User_ID\n",
    "df_train_test.drop(\"User_ID\", axis=1, inplace=True)"
   ]
  },
  {
   "cell_type": "markdown",
   "id": "f2fafe60",
   "metadata": {},
   "source": [
    "### Observations:\n",
    "- Duplicates are observed both in test and train sets.\n",
    "- NA values observed on Product_Category_2 and Product_Category_3 columns. NA values in these features will be filled with 0 because a product simply can have only a main category (Product_Category_1)\n",
    "- Slight right skew on Product_Category_1 and Product_Category_2, slight left skew on Product_Category_3 features."
   ]
  },
  {
   "cell_type": "markdown",
   "id": "99cbd466",
   "metadata": {},
   "source": [
    "### NA Values Examination"
   ]
  },
  {
   "cell_type": "code",
   "execution_count": null,
   "id": "8c88766e",
   "metadata": {},
   "outputs": [],
   "source": [
    "# na heatmap black and white\n",
    "plt.figure(figsize=(12, 8))\n",
    "sns.heatmap(df_train_test.isnull(), cbar=False)\n",
    "plt.title(\"Missing Values Heatmap\")\n",
    "plt.show()"
   ]
  },
  {
   "cell_type": "code",
   "execution_count": 41,
   "id": "992b66c1",
   "metadata": {},
   "outputs": [],
   "source": [
    "df_train_test['Product_Category_2'] = df_train_test['Product_Category_2'].fillna(0)\n",
    "df_train_test['Product_Category_3'] = df_train_test['Product_Category_3'].fillna(0)"
   ]
  },
  {
   "cell_type": "code",
   "execution_count": 42,
   "id": "ef0315cc",
   "metadata": {},
   "outputs": [],
   "source": [
    "# type fixing of product categories as int\n",
    "df_train_test['Product_Category_2'] = df_train_test['Product_Category_2'].astype(\"int64\")\n",
    "df_train_test['Product_Category_3'] = df_train_test['Product_Category_3'].astype(\"int64\")"
   ]
  },
  {
   "cell_type": "code",
   "execution_count": null,
   "id": "f0efedef",
   "metadata": {},
   "outputs": [],
   "source": [
    "product_cat_1_set = set(df_train_test[\"Product_Category_1\"].unique())\n",
    "product_cat_2_set = set(df_train_test[\"Product_Category_2\"].unique())\n",
    "product_cat_3_set = set(df_train_test[\"Product_Category_3\"].unique())\n",
    "\n",
    "print(f\"Product_Category_1 unique values: {product_cat_1_set}\\n\")\n",
    "print(f\"Product_Category_2 unique values: {product_cat_2_set}\\n\")\n",
    "print(f\"Product_Category_3 unique values: {product_cat_3_set}\\n\\n\")\n",
    "\n",
    "# universal set of product categories\n",
    "universal_set = product_cat_1_set.union(product_cat_2_set).union(product_cat_3_set)\n",
    "print(f\"Universal Set: {universal_set}\\n\\n\")\n",
    "\n",
    "# only in product_cat_1_set\n",
    "only_in_1 = product_cat_1_set - product_cat_2_set - product_cat_3_set\n",
    "# only in product_cat_2_set\n",
    "only_in_2 = product_cat_2_set - product_cat_1_set - product_cat_3_set\n",
    "# only in product_cat_3_set\n",
    "only_in_3 = product_cat_3_set - product_cat_1_set - product_cat_2_set\n",
    "\n",
    "print(f\"Only in Product_Category_1: {only_in_1}\\n\")\n",
    "print(f\"Only in Product_Category_2: {only_in_2}\\n\")\n",
    "print(f\"Only in Product_Category_3: {only_in_3}\\n\\n\")\n",
    "\n",
    "# product_cat_1_set/product_cat_2_set\n",
    "difference_1_2 = product_cat_1_set - product_cat_2_set\n",
    "# product_cat_1_set/product_cat_3_set\n",
    "difference_1_3 = product_cat_1_set - product_cat_3_set\n",
    "# product_cat_3_set/product_cat_2_set\n",
    "difference_3_2 = product_cat_3_set - product_cat_2_set\n",
    "# product_cat_2_set/product_cat_3_set\n",
    "difference_2_3 = product_cat_2_set - product_cat_3_set\n",
    "\n",
    "print(f\"Product_Category_1 - Product_Category_2: {difference_1_2}\")\n",
    "print(f\"Product_Category_1 - Product_Category_3: {difference_1_3}\")\n",
    "print(f\"Product_Category_3 - Product_Category_2: {difference_3_2}\")\n",
    "print(f\"Product_Category_2 - Product_Category_3: {difference_2_3}\")"
   ]
  },
  {
   "cell_type": "markdown",
   "id": "70811167",
   "metadata": {},
   "source": [
    "### Feature Examinations\n",
    "In this section features will be examined according to their numeric or categorical natures."
   ]
  },
  {
   "cell_type": "markdown",
   "id": "f65d6da7",
   "metadata": {},
   "source": [
    "#### Identifying Categorical and Numerical Features\n",
    "Using grab_col_names() function, we can achieve a seperation by defining some rules. Parameters used to define seperation rule in this function is as follows:\n",
    "- cat_th (int): Threshold for numerical columns to be considered categorical. Defined: 22 => due to maximum unique value containing cat feature is Age. Occupation is an exception. \n",
    "- car_th (int): Threshold for categorical columns to be considered cardinal. Defined: 22\n"
   ]
  },
  {
   "cell_type": "code",
   "execution_count": 43,
   "id": "be5b96f5",
   "metadata": {},
   "outputs": [
    {
     "name": "stdout",
     "output_type": "stream",
     "text": [
      "Observations: 783667\n",
      "Variables: 11\n",
      "cat_cols: 9\n",
      "num_cols: 1\n",
      "cat_but_car: 1\n",
      "num_but_cat: 5\n",
      "Categorical Columns: ['Gender', 'Age', 'City_Category', 'Stay_In_Current_City_Years', 'Occupation', 'Marital_Status', 'Product_Category_1', 'Product_Category_2', 'Product_Category_3']\n",
      "Numerical Columns: ['Purchase']\n",
      "Categorical but Cardinal Columns: ['Product_ID']\n"
     ]
    }
   ],
   "source": [
    "cat_cols, num_cols, cat_but_car = grab_col_names(df_train_test)\n",
    "print(f\"Categorical Columns: {cat_cols}\")\n",
    "print(f\"Numerical Columns: {num_cols}\")\n",
    "print(f\"Categorical but Cardinal Columns: {cat_but_car}\")"
   ]
  },
  {
   "cell_type": "markdown",
   "id": "53cc7565",
   "metadata": {},
   "source": [
    "#### Categorical Columns Visualization"
   ]
  },
  {
   "cell_type": "code",
   "execution_count": null,
   "id": "c9c6fb0c",
   "metadata": {},
   "outputs": [],
   "source": [
    "# countplot and pieplot comparison of categorical variables of train and test sets side by side\n",
    "def plot_categorical_comparison(df_train, df_test, cat_cols):\n",
    "    for col in cat_cols:\n",
    "        fig, axes = plt.subplots(1, 2, figsize=(12, 6))\n",
    "        sns.countplot(x=col, data=df_train, ax=axes[0])\n",
    "        axes[0].set_title(f\"Train Set: {col}\")\n",
    "        sns.countplot(x=col, data=df_test, ax=axes[1])\n",
    "        axes[1].set_title(f\"Test Set: {col}\")\n",
    "        plt.show()\n"
   ]
  },
  {
   "cell_type": "code",
   "execution_count": null,
   "id": "80ac2fb1",
   "metadata": {},
   "outputs": [],
   "source": [
    "plot_categorical_comparison(df_train, df_test, cat_cols)"
   ]
  },
  {
   "cell_type": "markdown",
   "id": "c3ec4fea",
   "metadata": {},
   "source": [
    "#### Observations\n",
    "- Categorical variables of Train and test sets distributed almost identical"
   ]
  },
  {
   "cell_type": "code",
   "execution_count": null,
   "id": "1f0d8a27",
   "metadata": {},
   "outputs": [],
   "source": [
    "for col in cat_cols:\n",
    "    cat_summary(df_train_test, col, plot=True, target=\"Purchase\", plot_type=\"all\")"
   ]
  },
  {
   "cell_type": "markdown",
   "id": "1ca06a64",
   "metadata": {},
   "source": [
    "#### Observations\n",
    "1. Gender\n",
    "The dataset is significantly imbalanced in terms of gender, with male customers outnumbering female customers by approximately 3:1. On average, male customers spend 3.8% more than female customers. This suggests that gender may serve as a relevant predictor for the purchase amount.\n",
    "\n",
    "2. Age\n",
    "The age variable is provided in categorical form (e.g., 0–17, 18–25, ...). Although the distribution visually appears to resemble a normal distribution, this cannot be confirmed due to the categorical nature of the data. Mean purchase amounts are fairly consistent across all age groups, indicating that age might not be a strong individual predictor.\n",
    "\n",
    "3. City_Category\n",
    "The city category variable contains three groups: A, B, and C. The distribution among these categories is relatively balanced, with Category B being the most frequent, followed by C and A. Customers from City Category C spend approximately 3% more on average compared to those from categories A and B. This variable may offer useful insights when modeling purchase behavior.\n",
    "\n",
    "4. Stay_In_Current_City_Years\n",
    "The most frequent value in this category is 1 year, accounting for 35.2% of the data. Other categories are more evenly distributed. Mean purchase amounts are similar across all groups, suggesting this variable may have limited standalone predictive power but could still contribute in interaction with other variables.\n",
    "\n",
    "5. Marital_Status\n",
    "There is a slight imbalance between married and unmarried customers, with unmarried customers outnumbering married ones by 3:2. However, the average purchase amount is equally distributed (50:50) between the two groups. As such, marital status does not appear to influence purchase behavior significantly on its own.\n",
    "\n",
    "6. Combinations of product categories have different impacts on purchase. Meaningfull features can be extracted from these combinations."
   ]
  },
  {
   "cell_type": "markdown",
   "id": "6ba16845",
   "metadata": {},
   "source": [
    "#### Numerical Columns Visualization"
   ]
  },
  {
   "cell_type": "code",
   "execution_count": null,
   "id": "57a0cf90",
   "metadata": {},
   "outputs": [],
   "source": [
    "for col in num_cols:\n",
    "    num_summary_enhanced(df_train_test, col, plot=True, groupby=None, plot_type=\"all\")"
   ]
  },
  {
   "cell_type": "code",
   "execution_count": 32,
   "id": "dfded02f",
   "metadata": {},
   "outputs": [],
   "source": [
    "def kde_plot(data, col):\n",
    "    plt.figure(figsize=(10, 6))\n",
    "    sns.kdeplot(data[col], color='blue', label='Train', fill=True)\n",
    "    plt.title(f'KDE Plot of {col}')\n",
    "    plt.xlabel(col)\n",
    "    plt.ylabel('Density')\n",
    "    plt.legend()\n",
    "    plt.show()"
   ]
  },
  {
   "cell_type": "code",
   "execution_count": 33,
   "id": "da23227f",
   "metadata": {},
   "outputs": [
    {
     "data": {
      "image/png": "[encoded data removed]",
      "text/plain": [
       "<Figure size 1000x600 with 1 Axes>"
      ]
     },
     "metadata": {},
     "output_type": "display_data"
    }
   ],
   "source": [
    "# kde plot of Purchase\n",
    "kde_plot(df_train_test, 'Purchase')"
   ]
  },
  {
   "cell_type": "markdown",
   "id": "b7e373aa",
   "metadata": {},
   "source": [
    "#### Observations\n",
    "-Local sparsities in Purchase distribution is the result of discrete products and combinations of product categories. Some combinations have lesser samples"
   ]
  },
  {
   "cell_type": "markdown",
   "id": "9cd3a3a5",
   "metadata": {},
   "source": [
    "#### Examination of Cardinal Feature"
   ]
  },
  {
   "cell_type": "code",
   "execution_count": null,
   "id": "1e254a53",
   "metadata": {},
   "outputs": [],
   "source": [
    "df_train_test['Product_ID'].head(10)"
   ]
  },
  {
   "cell_type": "code",
   "execution_count": null,
   "id": "7d5fd42b",
   "metadata": {},
   "outputs": [],
   "source": [
    "df_train_test[['Product_ID', 'Product_Category_1', 'Product_Category_2', 'Product_Category_3']].head(20)"
   ]
  },
  {
   "cell_type": "code",
   "execution_count": null,
   "id": "04e2990c",
   "metadata": {},
   "outputs": [],
   "source": [
    "df_train_test[['Product_ID', 'Product_Category_1', 'Product_Category_2', 'Product_Category_3']].tail(20)"
   ]
  },
  {
   "cell_type": "code",
   "execution_count": 26,
   "id": "ef7d9e14",
   "metadata": {},
   "outputs": [
    {
     "name": "stdout",
     "output_type": "stream",
     "text": [
      "(783667, 11)\n",
      "Rows with Product_ID not starting with P:  Product_ID                    0\n",
      "Gender                        0\n",
      "Age                           0\n",
      "Occupation                    0\n",
      "City_Category                 0\n",
      "Stay_In_Current_City_Years    0\n",
      "Marital_Status                0\n",
      "Product_Category_1            0\n",
      "Product_Category_2            0\n",
      "Product_Category_3            0\n",
      "Purchase                      0\n",
      "dtype: int64\n",
      "\n",
      "\n",
      "Rows with Product_ID not ending with 42:  Product_ID                    4153\n",
      "Gender                        4153\n",
      "Age                           4153\n",
      "Occupation                    4153\n",
      "City_Category                 4153\n",
      "Stay_In_Current_City_Years    4153\n",
      "Marital_Status                4153\n",
      "Product_Category_1            4153\n",
      "Product_Category_2            4153\n",
      "Product_Category_3            4153\n",
      "Purchase                      4153\n",
      "dtype: int64\n",
      "\n",
      "\n",
      "Last 2 characters of Product_ID:  Product_ID\n",
      "42    779514\n",
      "44       899\n",
      "45       837\n",
      "53       818\n",
      "36       814\n",
      "93       785\n",
      "Name: count, dtype: int64\n",
      "\n",
      "\n",
      "First 3 characters of Product_ID:  Product_ID\n",
      "P00    783667\n",
      "Name: count, dtype: int64\n",
      "\n",
      "\n",
      "First 4 characters of Product_ID:  Product_ID\n",
      "P001    265607\n",
      "P002    201616\n",
      "P000    188958\n",
      "P003    114165\n",
      "P009     13321\n",
      "Name: count, dtype: int64\n",
      "\n",
      "\n",
      "Length of Product_ID:  Product_ID\n",
      "9    770045\n",
      "8     13622\n",
      "Name: count, dtype: int64\n"
     ]
    }
   ],
   "source": [
    "print(df_train_test.shape)\n",
    "# rows with Product_ID isnt starting with P\n",
    "print(\"Rows with Product_ID not starting with P: \", df_train_test[~df_train_test['Product_ID'].str.startswith('P')].count())\n",
    "# rows with Product_ID isnt ending with 42\n",
    "print(\"\\n\\nRows with Product_ID not ending with 42: \", df_train_test[~df_train_test['Product_ID'].str.endswith('42')].count())\n",
    "\n",
    "# last 2 characters of Product_ID\n",
    "print(\"\\n\\nLast 2 characters of Product_ID: \", df_train_test['Product_ID'].str[-2:].value_counts())\n",
    "# first 3 characters of Product_ID\n",
    "print(\"\\n\\nFirst 3 characters of Product_ID: \", df_train_test['Product_ID'].str[:3].value_counts())\n",
    "# first 4 characters of Product_ID\n",
    "print(\"\\n\\nFirst 4 characters of Product_ID: \", df_train_test['Product_ID'].str[:4].value_counts())\n",
    "# length of Product_ID\n",
    "print(\"\\n\\nLength of Product_ID: \", df_train_test['Product_ID'].str.len().value_counts())"
   ]
  },
  {
   "cell_type": "code",
   "execution_count": null,
   "id": "c048cee8",
   "metadata": {},
   "outputs": [
    {
     "name": "stdout",
     "output_type": "stream",
     "text": [
      "\n",
      "\n",
      "Mean Purchase of Product_ID length=9:  9277.78284508147\n",
      "\n",
      "\n",
      "Mean Purchase of Product_ID length=8:  8477.918421052631\n"
     ]
    }
   ],
   "source": [
    "# mean purchase of Product_ID length=9\n",
    "print(\"\\n\\nMean Purchase of Product_ID length=9: \", df_train_test[df_train_test['Product_ID'].str.len() == 9]['Purchase'].mean())\n",
    "# mean purchase of Product_ID length=8\n",
    "print(\"\\n\\nMean Purchase of Product_ID length=8: \", df_train_test[df_train_test['Product_ID'].str.len() == 8]['Purchase'].mean())"
   ]
  },
  {
   "cell_type": "code",
   "execution_count": 45,
   "id": "64c8c9a4",
   "metadata": {},
   "outputs": [
    {
     "data": {
      "text/html": [
       "<div>\n",
       "<style scoped>\n",
       "    .dataframe tbody tr th:only-of-type {\n",
       "        vertical-align: middle;\n",
       "    }\n",
       "\n",
       "    .dataframe tbody tr th {\n",
       "        vertical-align: top;\n",
       "    }\n",
       "\n",
       "    .dataframe thead th {\n",
       "        text-align: right;\n",
       "    }\n",
       "</style>\n",
       "<table border=\"1\" class=\"dataframe\">\n",
       "  <thead>\n",
       "    <tr style=\"text-align: right;\">\n",
       "      <th></th>\n",
       "      <th>Product_ID</th>\n",
       "      <th>Frequency</th>\n",
       "    </tr>\n",
       "  </thead>\n",
       "  <tbody>\n",
       "    <tr>\n",
       "      <th>0</th>\n",
       "      <td>P00265242</td>\n",
       "      <td>2709</td>\n",
       "    </tr>\n",
       "    <tr>\n",
       "      <th>1</th>\n",
       "      <td>P00025442</td>\n",
       "      <td>2310</td>\n",
       "    </tr>\n",
       "    <tr>\n",
       "      <th>2</th>\n",
       "      <td>P00110742</td>\n",
       "      <td>2292</td>\n",
       "    </tr>\n",
       "    <tr>\n",
       "      <th>3</th>\n",
       "      <td>P00112142</td>\n",
       "      <td>2279</td>\n",
       "    </tr>\n",
       "    <tr>\n",
       "      <th>4</th>\n",
       "      <td>P00046742</td>\n",
       "      <td>2084</td>\n",
       "    </tr>\n",
       "  </tbody>\n",
       "</table>\n",
       "</div>"
      ],
      "text/plain": [
       "  Product_ID  Frequency\n",
       "0  P00265242       2709\n",
       "1  P00025442       2310\n",
       "2  P00110742       2292\n",
       "3  P00112142       2279\n",
       "4  P00046742       2084"
      ]
     },
     "execution_count": 45,
     "metadata": {},
     "output_type": "execute_result"
    }
   ],
   "source": [
    "# Product_ID frequency df\n",
    "product_id_freq = df_train_test['Product_ID'].value_counts().reset_index()\n",
    "product_id_freq.columns = ['Product_ID', 'Frequency']\n",
    "product_id_freq.head()"
   ]
  },
  {
   "cell_type": "code",
   "execution_count": 47,
   "id": "73d789c8",
   "metadata": {},
   "outputs": [
    {
     "data": {
      "text/html": [
       "<div>\n",
       "<style scoped>\n",
       "    .dataframe tbody tr th:only-of-type {\n",
       "        vertical-align: middle;\n",
       "    }\n",
       "\n",
       "    .dataframe tbody tr th {\n",
       "        vertical-align: top;\n",
       "    }\n",
       "\n",
       "    .dataframe thead th {\n",
       "        text-align: right;\n",
       "    }\n",
       "</style>\n",
       "<table border=\"1\" class=\"dataframe\">\n",
       "  <thead>\n",
       "    <tr style=\"text-align: right;\">\n",
       "      <th></th>\n",
       "      <th>Product_ID</th>\n",
       "      <th>Purchase</th>\n",
       "    </tr>\n",
       "  </thead>\n",
       "  <tbody>\n",
       "    <tr>\n",
       "      <th>852</th>\n",
       "      <td>P00086242</td>\n",
       "      <td>21256.505</td>\n",
       "    </tr>\n",
       "    <tr>\n",
       "      <th>843</th>\n",
       "      <td>P00085342</td>\n",
       "      <td>20980.268</td>\n",
       "    </tr>\n",
       "    <tr>\n",
       "      <th>1928</th>\n",
       "      <td>P00200642</td>\n",
       "      <td>20468.773</td>\n",
       "    </tr>\n",
       "    <tr>\n",
       "      <th>1090</th>\n",
       "      <td>P00116142</td>\n",
       "      <td>20463.791</td>\n",
       "    </tr>\n",
       "    <tr>\n",
       "      <th>1122</th>\n",
       "      <td>P00119342</td>\n",
       "      <td>20448.756</td>\n",
       "    </tr>\n",
       "  </tbody>\n",
       "</table>\n",
       "</div>"
      ],
      "text/plain": [
       "     Product_ID  Purchase\n",
       "852   P00086242 21256.505\n",
       "843   P00085342 20980.268\n",
       "1928  P00200642 20468.773\n",
       "1090  P00116142 20463.791\n",
       "1122  P00119342 20448.756"
      ]
     },
     "execution_count": 47,
     "metadata": {},
     "output_type": "execute_result"
    }
   ],
   "source": [
    "product_purchase_sum = df_train_test.groupby('Product_ID')['Purchase'].mean().reset_index()\n",
    "product_purchase_sum = product_purchase_sum.sort_values(by='Purchase', ascending=False)\n",
    "product_purchase_sum.head()"
   ]
  },
  {
   "cell_type": "code",
   "execution_count": 73,
   "id": "12651da0",
   "metadata": {},
   "outputs": [
    {
     "data": {
      "text/html": [
       "<div>\n",
       "<style scoped>\n",
       "    .dataframe tbody tr th:only-of-type {\n",
       "        vertical-align: middle;\n",
       "    }\n",
       "\n",
       "    .dataframe tbody tr th {\n",
       "        vertical-align: top;\n",
       "    }\n",
       "\n",
       "    .dataframe thead th {\n",
       "        text-align: right;\n",
       "    }\n",
       "</style>\n",
       "<table border=\"1\" class=\"dataframe\">\n",
       "  <thead>\n",
       "    <tr style=\"text-align: right;\">\n",
       "      <th></th>\n",
       "      <th>Product_ID</th>\n",
       "      <th>Frequency</th>\n",
       "      <th>Purchase</th>\n",
       "    </tr>\n",
       "  </thead>\n",
       "  <tbody>\n",
       "    <tr>\n",
       "      <th>3330</th>\n",
       "      <td>P00306842</td>\n",
       "      <td>5</td>\n",
       "      <td>NaN</td>\n",
       "    </tr>\n",
       "    <tr>\n",
       "      <th>3328</th>\n",
       "      <td>P00227242</td>\n",
       "      <td>5</td>\n",
       "      <td>NaN</td>\n",
       "    </tr>\n",
       "    <tr>\n",
       "      <th>3410</th>\n",
       "      <td>P00279042</td>\n",
       "      <td>3</td>\n",
       "      <td>NaN</td>\n",
       "    </tr>\n",
       "    <tr>\n",
       "      <th>3468</th>\n",
       "      <td>P00074942</td>\n",
       "      <td>2</td>\n",
       "      <td>NaN</td>\n",
       "    </tr>\n",
       "    <tr>\n",
       "      <th>3517</th>\n",
       "      <td>P00168242</td>\n",
       "      <td>2</td>\n",
       "      <td>NaN</td>\n",
       "    </tr>\n",
       "  </tbody>\n",
       "</table>\n",
       "</div>"
      ],
      "text/plain": [
       "     Product_ID  Frequency  Purchase\n",
       "3330  P00306842          5       NaN\n",
       "3328  P00227242          5       NaN\n",
       "3410  P00279042          3       NaN\n",
       "3468  P00074942          2       NaN\n",
       "3517  P00168242          2       NaN"
      ]
     },
     "execution_count": 73,
     "metadata": {},
     "output_type": "execute_result"
    }
   ],
   "source": [
    "# merging product_id_freq and product_purchase_sum\n",
    "product_mean_purchase_freq = pd.merge(product_id_freq, product_purchase_sum, on='Product_ID')\n",
    "product_mean_purchase_freq = product_mean_purchase_freq.sort_values(by='Frequency', ascending=False)\n",
    "product_mean_purchase_freq.head(20)\n",
    "# df of purchase null values ind product_id_freq\n",
    "product_mean_purchase_freq[product_mean_purchase_freq['Purchase'].isnull()].head()"
   ]
  },
  {
   "cell_type": "code",
   "execution_count": null,
   "id": "61b1dbff",
   "metadata": {},
   "outputs": [],
   "source": [
    "# removing 'P' from Product_ID\n",
    "product_mean_purchase_freq['Product_ID'] = product_mean_purchase_freq['Product_ID'].str.replace('P', '', regex=False)\n",
    "\n",
    "# extracting integers from Product_ID\n",
    "product_mean_purchase_freq['Product_ID'] = product_mean_purchase_freq['Product_ID'].str.extract('(\\d+)').astype(int)"
   ]
  },
  {
   "cell_type": "code",
   "execution_count": null,
   "id": "586e0131",
   "metadata": {},
   "outputs": [
    {
     "name": "stdout",
     "output_type": "stream",
     "text": [
      "5095812742.0\n"
     ]
    }
   ],
   "source": [
    "#product_purchase_sum['Purchsae_Percent'] = product_purchase_sum['Purchase'] / df_train_test['Purchase'].sum() * 100\n",
    "#product_purchase_sum = product_purchase_sum.reset_index(drop=True)\n",
    "#product_purchase_sum.sort_values(by='Purchsae_Percent', ascending=False, inplace=True)\n",
    "#print(df_train_test['Purchase'].sum())"
   ]
  },
  {
   "cell_type": "markdown",
   "id": "0d574e5d",
   "metadata": {},
   "source": [
    "#### Strategy\n",
    "- Product_ID is a cardinal feature. Model cant be based on product id no matter how related it is with purchase, But extracting impactfull features on purchase feature from Product_ID would do no harm.\n",
    "- Product categories has to play a crucial role in generalizing the data. Frequent and valuable (threshold < mean Purchase) category number combinations will be turned into features and fed to the model."
   ]
  },
  {
   "cell_type": "code",
   "execution_count": 61,
   "id": "72396df0",
   "metadata": {},
   "outputs": [],
   "source": [
    "df_train_test['Category_Combo'] = list(zip(\n",
    "    df_train_test['Product_Category_1'],\n",
    "    df_train_test['Product_Category_2'],\n",
    "    df_train_test['Product_Category_3']\n",
    "))"
   ]
  },
  {
   "cell_type": "code",
   "execution_count": 62,
   "id": "98a8db7c",
   "metadata": {},
   "outputs": [],
   "source": [
    "combo_mean_purchase = df_train_test.groupby('Category_Combo')['Purchase'].mean().reset_index()\n",
    "combo_mean_purchase.columns = ['Category_Combo', 'Combo_Mean_Purchase']"
   ]
  },
  {
   "cell_type": "code",
   "execution_count": null,
   "id": "ec13f4cc",
   "metadata": {},
   "outputs": [],
   "source": [
    "# sample count per category combo\n",
    "combo_counts = df_train_test['Category_Combo'].value_counts().reset_index()\n",
    "combo_counts.columns = ['Category_Combo', 'Count']\n",
    "\n",
    "# Merging mean purchase and counts\n",
    "combo_stats = combo_mean_purchase.merge(combo_counts, on='Category_Combo')\n"
   ]
  },
  {
   "cell_type": "code",
   "execution_count": 70,
   "id": "3530bb75",
   "metadata": {},
   "outputs": [
    {
     "data": {
      "text/plain": [
       "count     237.000\n",
       "mean     3306.612\n",
       "std      9129.729\n",
       "min         1.000\n",
       "25%       399.000\n",
       "50%      1093.000\n",
       "75%      2439.000\n",
       "max     91179.000\n",
       "Name: Count, dtype: float64"
      ]
     },
     "execution_count": 70,
     "metadata": {},
     "output_type": "execute_result"
    }
   ],
   "source": [
    "combo_stats['Count'].describe().T"
   ]
  },
  {
   "cell_type": "code",
   "execution_count": 71,
   "id": "6e5405b0",
   "metadata": {},
   "outputs": [
    {
     "data": {
      "text/plain": [
       "count     237.000\n",
       "mean     9878.738\n",
       "std      4709.040\n",
       "min        37.042\n",
       "25%      6399.331\n",
       "50%     10441.069\n",
       "75%     13430.779\n",
       "max     20789.913\n",
       "Name: Combo_Mean_Purchase, dtype: float64"
      ]
     },
     "execution_count": 71,
     "metadata": {},
     "output_type": "execute_result"
    }
   ],
   "source": [
    "combo_stats['Combo_Mean_Purchase'].describe().T"
   ]
  },
  {
   "cell_type": "code",
   "execution_count": 77,
   "id": "b05c6f7d",
   "metadata": {},
   "outputs": [],
   "source": [
    "selected_combos = combo_stats[\n",
    "    (combo_stats['Count'] >= 399) & (combo_stats['Count'] <= 2439) &\n",
    "    (combo_stats['Combo_Mean_Purchase'] >= 6399) & (combo_stats['Combo_Mean_Purchase'] <= 13431)\n",
    "]['Category_Combo'].tolist()"
   ]
  },
  {
   "cell_type": "code",
   "execution_count": 78,
   "id": "72dbc5f2",
   "metadata": {},
   "outputs": [
    {
     "data": {
      "text/plain": [
       "62"
      ]
     },
     "execution_count": 78,
     "metadata": {},
     "output_type": "execute_result"
    }
   ],
   "source": [
    "len(selected_combos)"
   ]
  }
 ],
 "metadata": {
  "kernelspec": {
   "display_name": ".venv",
   "language": "python",
   "name": "python3"
  },
  "language_info": {
   "codemirror_mode": {
    "name": "ipython",
    "version": 3
   },
   "file_extension": ".py",
   "mimetype": "text/x-python",
   "name": "python",
   "nbconvert_exporter": "python",
   "pygments_lexer": "ipython3",
   "version": "3.10.11"
  }
 },
 "nbformat": 4,
 "nbformat_minor": 5
}
